{
  "nbformat": 4,
  "nbformat_minor": 0,
  "metadata": {
    "colab": {
      "provenance": [
        {
          "file_id": "1bufmDPEysUkvDUQHsVwH8xD9aogghB5n",
          "timestamp": 1752023546107
        },
        {
          "file_id": "1xvS_UzSbI6toJymoT9tfD7bQYqs-xDDG",
          "timestamp": 1746744600281
        }
      ],
      "authorship_tag": "ABX9TyN00W1Rfbcm6XPJoUSlH4rx"
    },
    "kernelspec": {
      "name": "python3",
      "display_name": "Python 3"
    },
    "language_info": {
      "name": "python"
    }
  },
  "cells": [
    {
      "cell_type": "markdown",
      "source": [
        "# Data Dunkers Analysis - Test Event\n\nThis notebook will allow us to analyse the data we collected using the [Google Form](https://docs.google.com/forms/d/e/1FAIpQLSdacFIE5Km4dou44AYGFYfOXWR65KEFeydYYy3iQFM1IGkiTw/viewform).\n\nThe first step is to import the collected data. Click on the cell below then click the play button on the left."
      ],
      "metadata": {
        "id": "QRF_Gv6seZC_"
      }
    },
    {
      "cell_type": "code",
      "source": [
        "import pandas as pd\n",
        "df = pd.read_csv('https://docs.google.com/spreadsheets/d/1KeUkR2qpsaFdU2Lvks79vju22fJNzFB-iGfGUxmPQHI/export?format=csv')\n",
        "\n",
        "df"
      ],
      "metadata": {
        "id": "-blWDHiXegZV"
      },
      "execution_count": null,
      "outputs": []
    },
    {
      "cell_type": "markdown",
      "source": [
        "Now that you have the data, the following code cell will calculate the average (`mean`) of `Shots made` at each distance."
      ],
      "metadata": {
        "id": "CguAB7XbzNU6"
      }
    },
    {
      "cell_type": "code",
      "source": [
        "distance = df.columns[2]\n",
        "averages = df.groupby(distance)['Shots made'].mean()\n",
        "\n",
        "averages"
      ],
      "metadata": {
        "id": "QzmMJ1KvzVkY"
      },
      "execution_count": null,
      "outputs": []
    },
    {
      "cell_type": "markdown",
      "source": [
        "## Graphing\n",
        "\n",
        "Run the following code cell to make a bar chart from those calculated averages."
      ],
      "metadata": {
        "id": "mHh0ghDCfCeh"
      }
    },
    {
      "cell_type": "code",
      "source": [
        "import plotly.express as px\n",
        "px.bar(averages, y='Shots made', title='Average Shots Made at Each Distance')"
      ],
      "metadata": {
        "id": "KI-aBh-pfFAQ"
      },
      "execution_count": null,
      "outputs": []
    },
    {
      "cell_type": "markdown",
      "source": [
        "## Filtering\n",
        "\n",
        "You can also use just your data. Edit the code cell below by replacing the `42` with how you identified yourself on the form.\n",
        "\n",
        "Then run the code cell to filter the data frame to include just your data."
      ],
      "metadata": {
        "id": "cW3gLaVA0yUa"
      }
    },
    {
      "cell_type": "code",
      "source": [
        "me = '42'\n",
        "\n",
        "participant = df.columns[1]\n",
        "df[participant] = df[participant].astype(str)\n",
        "my_data = df[df[participant] == me]\n",
        "my_data"
      ],
      "metadata": {
        "id": "fhe2PG7L7EYO"
      },
      "execution_count": null,
      "outputs": []
    },
    {
      "cell_type": "markdown",
      "source": [
        "Now that you have your data stored in the variable `my_data`, use the following code cell to make a bar graph of your shots made."
      ],
      "metadata": {
        "id": "S9ZKRkww7ewl"
      }
    },
    {
      "cell_type": "code",
      "source": [],
      "metadata": {
        "id": "GbuBf2ch7e4m"
      },
      "execution_count": null,
      "outputs": []
    },
    {
      "cell_type": "markdown",
      "source": [
        "## The End\n",
        "\n",
        "Congratulations, you have completed this notebook. Hopefully you can use these examples to create your own graphs.\n",
        "\n",
        "Check out other resources at [DataDunkers.ca](https://datadunkers.ca).\n",
        "\n",
        "You can also try [chart.misterhay.com](https://chart.misterhay.com) for generating graphs and Python code."
      ],
      "metadata": {
        "id": "wUfgkwjffhE5"
      }
    }
  ]
}