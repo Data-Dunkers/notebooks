{
  "cells": [
    {
      "cell_type": "markdown",
      "metadata": {},
      "source": [
        "![Data Dunkers Banner](https://github.com/Data-Dunkers/lessons/blob/main/images/top-banner.jpg?raw=true)\n",
        "\n",
        "<a href=\"https://hub.callysto.ca/jupyter/hub/user-redirect/git-pull?repo=https%3A%2F%2Fgithub.com%2FData-Dunkers%2Fnotebooks&branch=main&subPath=Data_Dunkers_Detailed_Form_Analysis_Gagetown.ipynb&depth=1\" target=\"_parent\"><img src=\"https://raw.githubusercontent.com/Data-Dunkers/lessons/main/images/open-in-callysto-button.svg?sanitize=true\" width=\"123\" height=\"24\" alt=\"Open in Callysto\"/></a>\n",
        "<a href=\"https://colab.research.google.com/github/data-dunkers/notebooks/blob/main/Data_Dunkers_Detailed_Form_Analysis_Gagetown.ipynb\" target=\"_parent\"><img src=\"https://raw.githubusercontent.com/Data-Dunkers/lessons/main/images/open-in-colab-button.svg?sanitize=true\" width=\"123\" height=\"24\" alt=\"Open in Colab\"/></a>"
      ]
    },
    {
      "cell_type": "markdown",
      "metadata": {
        "id": "QRF_Gv6seZC_"
      },
      "source": [
        "# Data Dunkers Analysis - Gagetown\n",
        "\n",
        "This notebook will allow us to analyse the data we collected using the [Google Form](https://docs.google.com/forms/d/e/1FAIpQLScz5N2rI8cuERdZjOAUu5viXxpOPRtpmneTg70rIq5GgPKb6A/viewform).\n",
        "\n",
        "The first step is to import the collected data. Click on the cell below then click the play button on the left."
      ]
    },
    {
      "cell_type": "code",
      "execution_count": null,
      "metadata": {
        "id": "-blWDHiXegZV"
      },
      "outputs": [],
      "source": [
        "import pandas as pd\n",
        "df = pd.read_csv('https://docs.google.com/spreadsheets/d/1U4K0hI3NRbfRJgS1-JiRRqScaeNZ4OsNhYgUlS2wLpY/export?format=csv')\n",
        "\n",
        "print(f'There are {df.shape[0]} rows and {df.shape[1]} columns of data\\n')\n",
        "for column in df.columns:\n",
        "    print(column)"
      ]
    },
    {
      "cell_type": "markdown",
      "metadata": {
        "id": "1FvKtVGMe3Wn"
      },
      "source": [
        "## Filtering and Sorting\n",
        "\n",
        "In the code cell below, change the line `me = 'DD43'` to your initials and number. For example, `me = 'PS43'`.\n",
        "\n",
        "Then run the cell to **filter** the data to show just your row."
      ]
    },
    {
      "cell_type": "code",
      "execution_count": null,
      "metadata": {},
      "outputs": [],
      "source": [
        "me = 'DD43'\n",
        "\n",
        "df[ df['Initials'] == me ]"
      ]
    },
    {
      "cell_type": "markdown",
      "metadata": {},
      "source": [
        "Run the following code cell to **sort** the values by the last column and display the top **10**."
      ]
    },
    {
      "cell_type": "code",
      "execution_count": null,
      "metadata": {
        "id": "bn0bkszne6Qu"
      },
      "outputs": [],
      "source": [
        "print(f'Sorting by: {df.columns[-1]}')\n",
        "\n",
        "df.sort_values(by=df.columns[-1], ascending=False).head(10)"
      ]
    },
    {
      "cell_type": "markdown",
      "metadata": {
        "id": "__xCPoVZaQXE"
      },
      "source": [
        "To display a list the available columns, run the following code cell."
      ]
    },
    {
      "cell_type": "code",
      "execution_count": null,
      "metadata": {
        "id": "yUhofaiXaV2E"
      },
      "outputs": [],
      "source": [
        "df.columns"
      ]
    },
    {
      "cell_type": "markdown",
      "metadata": {
        "id": "Uu3SqnNze7Ua"
      },
      "source": [
        "### Your Turn\n",
        "\n",
        "In the code cell below, edit the code to sort by one of the columns. You need to paste in the exact column title, for example `df.sort_values(by='Height (cm)', ascending=False)`"
      ]
    },
    {
      "cell_type": "code",
      "execution_count": null,
      "metadata": {
        "id": "maMc74VFfBTn"
      },
      "outputs": [],
      "source": [
        "df.sort_values(by='', ascending=False)"
      ]
    },
    {
      "cell_type": "markdown",
      "metadata": {
        "id": "mHh0ghDCfCeh"
      },
      "source": [
        "## Graphing\n",
        "\n",
        "### Scatterplot\n",
        "\n",
        "We can create a scatterplot from two data columns.\n",
        "\n",
        "*You may need to change the column titles if these are not available in your data set.*"
      ]
    },
    {
      "cell_type": "code",
      "execution_count": null,
      "metadata": {
        "id": "RU-0F3pzfRCc"
      },
      "outputs": [],
      "source": [
        "import plotly.express as px\n",
        "px.scatter(df, x='Height (cm)', y='Wingspan (cm)')"
      ]
    },
    {
      "cell_type": "markdown",
      "metadata": {
        "id": "Dt0VlRAlbjMc"
      },
      "source": [
        "You can also add a `title` and a `trendline`."
      ]
    },
    {
      "cell_type": "code",
      "execution_count": null,
      "metadata": {
        "id": "Ljq29dK3bigF"
      },
      "outputs": [],
      "source": [
        "px.scatter(df, x='Height (cm)', y='Wingspan (cm)', title='Wingspan vs Height', trendline='ols')"
      ]
    },
    {
      "cell_type": "markdown",
      "metadata": {
        "id": "2J-zEfZLa7go"
      },
      "source": [
        "### Bar Charts and Histograms\n",
        "\n",
        "A bar chart works in a similar way."
      ]
    },
    {
      "cell_type": "code",
      "execution_count": null,
      "metadata": {
        "id": "7g--IouRfRnn"
      },
      "outputs": [],
      "source": [
        "px.bar(df, x='Timestamp', y='Height (cm)', title='Height Over Time')"
      ]
    },
    {
      "cell_type": "code",
      "execution_count": null,
      "metadata": {
        "id": "TTwrxUqHfTeY"
      },
      "outputs": [],
      "source": [
        "px.histogram(df, x='Handedness', title='Handedness')"
      ]
    },
    {
      "cell_type": "markdown",
      "metadata": {
        "id": "TI1jI7T_fU2r"
      },
      "source": [
        "### Your Turn\n",
        "\n",
        "Try creating a graph in the code cell below."
      ]
    },
    {
      "cell_type": "code",
      "execution_count": null,
      "metadata": {
        "id": "km50sxx9fWxh"
      },
      "outputs": [],
      "source": []
    },
    {
      "cell_type": "markdown",
      "metadata": {
        "id": "5JALhVsifXoc"
      },
      "source": [
        "## Correlation Map\n",
        "\n",
        "We can also create a correlation map to see how the numeric variables are related. Higher numbers mean they are more closely correlated."
      ]
    },
    {
      "cell_type": "code",
      "execution_count": null,
      "metadata": {
        "id": "gnG5VBkSfbrR"
      },
      "outputs": [],
      "source": [
        "numeric_df = df.select_dtypes(include=['number'])\n",
        "numeric_df.corr()"
      ]
    },
    {
      "cell_type": "markdown",
      "metadata": {
        "id": "CZ-_Fp5scKMh"
      },
      "source": [
        "You can also add [colors](https://matplotlib.org/stable/gallery/color/colormap_reference.html) and number formatting to the correlation map."
      ]
    },
    {
      "cell_type": "code",
      "execution_count": null,
      "metadata": {
        "id": "WgKXaUiNcBAc"
      },
      "outputs": [],
      "source": [
        "numeric_df.corr().style.background_gradient(cmap='cividis').format(precision=3)"
      ]
    },
    {
      "cell_type": "markdown",
      "metadata": {
        "id": "J0FLyPSffbIZ"
      },
      "source": [
        "### Your Turn\n",
        "\n",
        "Is there anything surprising about the correlation map?"
      ]
    },
    {
      "cell_type": "markdown",
      "metadata": {
        "id": "mSjhePPhfdeJ"
      },
      "source": [
        "... your answer here ..."
      ]
    },
    {
      "cell_type": "markdown",
      "metadata": {
        "id": "wUfgkwjffhE5"
      },
      "source": [
        "## The End\n",
        "\n",
        "Congratulations, you have completed this notebook. Hopefully you can use these examples to create your own graphs.\n",
        "\n",
        "Check out other resources at [DataDunkers.ca](https://datadunkers.ca).\n",
        "\n",
        "You can also try [chart.misterhay.com](https://chart.misterhay.com) for generating graphs and Python code."
      ]
    }
  ],
  "metadata": {
    "colab": {
      "provenance": []
    },
    "kernelspec": {
      "display_name": "Python 3",
      "name": "python3"
    },
    "language_info": {
      "name": "python"
    }
  },
  "nbformat": 4,
  "nbformat_minor": 0
}
