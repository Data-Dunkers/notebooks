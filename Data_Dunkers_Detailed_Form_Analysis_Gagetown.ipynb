{
  "nbformat": 4,
  "nbformat_minor": 0,
  "metadata": {
    "colab": {
      "provenance": []
    },
    "kernelspec": {
      "name": "python3",
      "display_name": "Python 3"
    },
    "language_info": {
      "name": "python"
    }
  },
  "cells": [
    {
      "cell_type": "markdown",
      "source": [
        "# Data Dunkers Analysis - Gagetown\n",
        "\n",
        "This notebook will allow us to analyse the data we collected using the [Google Form](https://docs.google.com/forms/d/e/1FAIpQLScz5N2rI8cuERdZjOAUu5viXxpOPRtpmneTg70rIq5GgPKb6A/viewform).\n",
        "\n",
        "The first step is to import the collected data. Click on the cell below then click the play button on the left."
      ],
      "metadata": {
        "id": "QRF_Gv6seZC_"
      }
    },
    {
      "cell_type": "code",
      "source": [
        "import pandas as pd\n",
        "df = pd.read_csv('https://docs.google.com/spreadsheets/d/1U4K0hI3NRbfRJgS1-JiRRqScaeNZ4OsNhYgUlS2wLpY/export?format=csv')\n",
        "\n",
        "print(f'There are {df.shape[0]} rows and {df.shape[1]} columns of data\\n')\n",
        "for column in df.columns:\n",
        "    print(column)"
      ],
      "metadata": {
        "id": "-blWDHiXegZV"
      },
      "execution_count": null,
      "outputs": []
    },
    {
      "cell_type": "markdown",
      "source": [
        "## Sorting and Filtering\n",
        "\n",
        "Run the following code cell to **sort** the values by the last column and display the top **10**."
      ],
      "metadata": {
        "id": "1FvKtVGMe3Wn"
      }
    },
    {
      "cell_type": "code",
      "source": [
        "print(f'Sorting by: {df.columns[-1]}')\n",
        "\n",
        "df.sort_values(by=df.columns[-1], ascending=False).head(10)"
      ],
      "metadata": {
        "id": "bn0bkszne6Qu"
      },
      "execution_count": null,
      "outputs": []
    },
    {
      "cell_type": "markdown",
      "source": [
        "To display a list the available columns, run the following code cell."
      ],
      "metadata": {
        "id": "__xCPoVZaQXE"
      }
    },
    {
      "cell_type": "code",
      "source": [
        "df.columns"
      ],
      "metadata": {
        "id": "yUhofaiXaV2E"
      },
      "execution_count": null,
      "outputs": []
    },
    {
      "cell_type": "markdown",
      "source": [
        "### Your Turn\n",
        "\n",
        "In the code cell below, edit the code to sort by one of the columns. You need to paste in the exact column title, for example `df.sort_values(by='Height (cm)', ascending=False)`"
      ],
      "metadata": {
        "id": "Uu3SqnNze7Ua"
      }
    },
    {
      "cell_type": "code",
      "source": [
        "df.sort_values(by='', ascending=False)"
      ],
      "metadata": {
        "id": "maMc74VFfBTn"
      },
      "execution_count": null,
      "outputs": []
    },
    {
      "cell_type": "markdown",
      "source": [
        "## Graphing\n",
        "\n",
        "### Scatterplot\n",
        "\n",
        "We can create a scatterplot from two data columns.\n",
        "\n",
        "*You may need to change the column titles if these are not available in your data set.*"
      ],
      "metadata": {
        "id": "mHh0ghDCfCeh"
      }
    },
    {
      "cell_type": "code",
      "source": [
        "import plotly.express as px\n",
        "px.scatter(df, x='Height (cm)', y='Wingspan (cm)')"
      ],
      "metadata": {
        "id": "RU-0F3pzfRCc"
      },
      "execution_count": null,
      "outputs": []
    },
    {
      "cell_type": "markdown",
      "source": [
        "You can also add a `title` and a `trendline`."
      ],
      "metadata": {
        "id": "Dt0VlRAlbjMc"
      }
    },
    {
      "cell_type": "code",
      "source": [
        "px.scatter(df, x='Height (cm)', y='Wingspan (cm)', title='Wingspan vs Height', trendline='ols')"
      ],
      "metadata": {
        "id": "Ljq29dK3bigF"
      },
      "execution_count": null,
      "outputs": []
    },
    {
      "cell_type": "markdown",
      "source": [
        "### Bar Charts and Histograms\n",
        "\n",
        "A bar chart works in a similar way."
      ],
      "metadata": {
        "id": "2J-zEfZLa7go"
      }
    },
    {
      "cell_type": "code",
      "source": [
        "px.bar(df, x='Timestamp', y='Height (cm)', title='Height Over Time')"
      ],
      "metadata": {
        "id": "7g--IouRfRnn"
      },
      "execution_count": null,
      "outputs": []
    },
    {
      "cell_type": "code",
      "source": [
        "px.histogram(df, x='Handedness', title='Handedness')"
      ],
      "metadata": {
        "id": "TTwrxUqHfTeY"
      },
      "execution_count": null,
      "outputs": []
    },
    {
      "cell_type": "markdown",
      "source": [
        "### Your Turn\n",
        "\n",
        "Try creating a graph in the code cell below."
      ],
      "metadata": {
        "id": "TI1jI7T_fU2r"
      }
    },
    {
      "cell_type": "code",
      "source": [],
      "metadata": {
        "id": "km50sxx9fWxh"
      },
      "execution_count": null,
      "outputs": []
    },
    {
      "cell_type": "markdown",
      "source": [
        "## Correlation Map\n",
        "\n",
        "We can also create a correlation map to see how the numeric variables are related. Higher numbers mean they are more closely correlated."
      ],
      "metadata": {
        "id": "5JALhVsifXoc"
      }
    },
    {
      "cell_type": "code",
      "source": [
        "numeric_df = df.select_dtypes(include=['number'])\n",
        "numeric_df.corr()"
      ],
      "metadata": {
        "id": "gnG5VBkSfbrR"
      },
      "execution_count": null,
      "outputs": []
    },
    {
      "cell_type": "markdown",
      "source": [
        "You can also add [colors](https://matplotlib.org/stable/gallery/color/colormap_reference.html) and number formatting to the correlation map."
      ],
      "metadata": {
        "id": "CZ-_Fp5scKMh"
      }
    },
    {
      "cell_type": "code",
      "source": [
        "numeric_df.corr().style.background_gradient(cmap='cividis').format(precision=3)"
      ],
      "metadata": {
        "id": "WgKXaUiNcBAc"
      },
      "execution_count": null,
      "outputs": []
    },
    {
      "cell_type": "markdown",
      "source": [
        "### Your Turn\n",
        "\n",
        "Is there anything surprising about the correlation map?"
      ],
      "metadata": {
        "id": "J0FLyPSffbIZ"
      }
    },
    {
      "cell_type": "markdown",
      "source": [
        "... your answer here ..."
      ],
      "metadata": {
        "id": "mSjhePPhfdeJ"
      }
    },
    {
      "cell_type": "markdown",
      "source": [
        "## The End\n",
        "\n",
        "Congratulations, you have completed this notebook. Hopefully you can use these examples to create your own graphs.\n",
        "\n",
        "Check out other resources at [DataDunkers.ca](https://datadunkers.ca).\n",
        "\n",
        "You can also try [chart.misterhay.com](https://chart.misterhay.com) for generating graphs and Python code."
      ],
      "metadata": {
        "id": "wUfgkwjffhE5"
      }
    }
  ]
}